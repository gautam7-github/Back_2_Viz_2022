{
 "cells": [
  {
   "cell_type": "code",
   "execution_count": 1,
   "metadata": {},
   "outputs": [],
   "source": [
    "import pandas as pd\n",
    "df = pd.read_csv('https://query.data.world/s/lyowfyloepbidjftxgp3uvpmf6t5c5')\n",
    "df.to_excel(\"week2.xlsx\")"
   ]
  },
  {
   "cell_type": "code",
   "execution_count": 2,
   "metadata": {},
   "outputs": [
    {
     "name": "stdout",
     "output_type": "stream",
     "text": [
      "<class 'pandas.core.frame.DataFrame'>\n",
      "RangeIndex: 26829 entries, 0 to 26828\n",
      "Data columns (total 5 columns):\n",
      " #   Column              Non-Null Count  Dtype  \n",
      "---  ------              --------------  -----  \n",
      " 0   Country Code        26829 non-null  object \n",
      " 1   Country Name        26829 non-null  object \n",
      " 2   Gender              26829 non-null  object \n",
      " 3   Date                26829 non-null  object \n",
      " 4   Unemployement Rate  26829 non-null  float64\n",
      "dtypes: float64(1), object(4)\n",
      "memory usage: 1.0+ MB\n"
     ]
    }
   ],
   "source": [
    "df.info()"
   ]
  },
  {
   "cell_type": "code",
   "execution_count": 3,
   "metadata": {},
   "outputs": [
    {
     "data": {
      "text/plain": [
       "array(['Australia', 'Austria', 'Belgium', 'Canada', 'Chile', 'Colombia',\n",
       "       'Costa Rica', 'Czechia', 'Germany', 'Denmark', 'Spain', 'Estonia',\n",
       "       'Finland', 'France', 'United Kingdom', 'Greece', 'Hungary',\n",
       "       'Ireland', 'Iceland', 'Israel', 'Italy', 'Japan', 'Korea',\n",
       "       'Lithuania', 'Luxembourg', 'Latvia', 'Mexico', 'Netherlands',\n",
       "       'Norway', 'Poland', 'Portugal', 'Slovakia', 'Slovenia', 'Sweden',\n",
       "       'Turkey', 'United States of America'], dtype=object)"
      ]
     },
     "execution_count": 3,
     "metadata": {},
     "output_type": "execute_result"
    }
   ],
   "source": [
    "df['Country Name'].unique()"
   ]
  },
  {
   "cell_type": "code",
   "execution_count": 4,
   "metadata": {},
   "outputs": [],
   "source": [
    "# According to source we have to drop :\n",
    "# Colombia Costa Rica Iceland Israel Turkey"
   ]
  },
  {
   "cell_type": "code",
   "execution_count": 5,
   "metadata": {},
   "outputs": [],
   "source": [
    "cleanDf = df.loc[~df['Country Name'].isin(['Colombia','Costa Rica','Iceland','Israel','Turkey'])]"
   ]
  },
  {
   "cell_type": "code",
   "execution_count": 7,
   "metadata": {},
   "outputs": [],
   "source": [
    "cleanDf.to_excel(\"week2.xlsx\",index=False)"
   ]
  }
 ],
 "metadata": {
  "kernelspec": {
   "display_name": "Python 3.8.1 64-bit",
   "language": "python",
   "name": "python3"
  },
  "language_info": {
   "codemirror_mode": {
    "name": "ipython",
    "version": 3
   },
   "file_extension": ".py",
   "mimetype": "text/x-python",
   "name": "python",
   "nbconvert_exporter": "python",
   "pygments_lexer": "ipython3",
   "version": "3.8.1"
  },
  "orig_nbformat": 4,
  "vscode": {
   "interpreter": {
    "hash": "03bb991457d37ae7114e465a4e1fddf1bc1040c6df8c60b0a6698575164d41d7"
   }
  }
 },
 "nbformat": 4,
 "nbformat_minor": 2
}
